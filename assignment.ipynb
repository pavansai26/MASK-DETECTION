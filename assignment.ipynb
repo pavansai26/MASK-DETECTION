{
  "nbformat": 4,
  "nbformat_minor": 0,
  "metadata": {
    "colab": {
      "name": "assignment.ipynb",
      "provenance": [],
      "authorship_tag": "ABX9TyMZrkZcYP4PbiTcFYaNrKXf",
      "include_colab_link": true
    },
    "kernelspec": {
      "name": "python3",
      "display_name": "Python 3"
    },
    "accelerator": "GPU"
  },
  "cells": [
    {
      "cell_type": "markdown",
      "metadata": {
        "id": "view-in-github",
        "colab_type": "text"
      },
      "source": [
        "<a href=\"https://colab.research.google.com/github/pavansai26/MASK-DETECTION/blob/master/assignment.ipynb\" target=\"_parent\"><img src=\"https://colab.research.google.com/assets/colab-badge.svg\" alt=\"Open In Colab\"/></a>"
      ]
    },
    {
      "cell_type": "markdown",
      "metadata": {
        "id": "VRDCXOjJZfGk",
        "colab_type": "text"
      },
      "source": [
        "# **importing the necessary libraries**"
      ]
    },
    {
      "cell_type": "code",
      "metadata": {
        "id": "LU8GzyMZrfSC",
        "colab_type": "code",
        "colab": {
          "base_uri": "https://localhost:8080/",
          "height": 70
        },
        "outputId": "53cf862d-d7a5-41cb-8ff0-532e3b591092"
      },
      "source": [
        "import numpy as np\n",
        "import pandas as pd\n",
        "import matplotlib.pyplot as plt\n",
        "import seaborn as sns\n",
        "import os\n",
        "import cv2\n"
      ],
      "execution_count": null,
      "outputs": [
        {
          "output_type": "stream",
          "text": [
            "/usr/local/lib/python3.6/dist-packages/statsmodels/tools/_testing.py:19: FutureWarning: pandas.util.testing is deprecated. Use the functions in the public API at pandas.testing instead.\n",
            "  import pandas.util.testing as tm\n"
          ],
          "name": "stderr"
        }
      ]
    },
    {
      "cell_type": "markdown",
      "metadata": {
        "id": "D2qfoaySaY3N",
        "colab_type": "text"
      },
      "source": [
        "# **importing the deep learning libraries**"
      ]
    },
    {
      "cell_type": "code",
      "metadata": {
        "id": "LWksILSS0DRq",
        "colab_type": "code",
        "colab": {}
      },
      "source": [
        "from keras.utils import np_utils\n",
        "import tensorflow as tf\n",
        "from keras.models import Sequential\n",
        "from keras.layers import Dense,Activation,Flatten,Dropout\n",
        "from keras.layers import Conv2D,MaxPooling2D\n",
        "from keras.callbacks import ModelCheckpoint"
      ],
      "execution_count": null,
      "outputs": []
    },
    {
      "cell_type": "markdown",
      "metadata": {
        "id": "6YCfD459allv",
        "colab_type": "text"
      },
      "source": [
        "# **importing the deep learning libraries**"
      ]
    },
    {
      "cell_type": "code",
      "metadata": {
        "id": "XI483V1u-ZRe",
        "colab_type": "code",
        "colab": {}
      },
      "source": [
        "\n",
        "from tensorflow.keras.layers import BatchNormalization\n",
        "from tensorflow.keras.layers import Conv2D\n",
        "from tensorflow.keras.layers import Conv2DTranspose\n",
        "from tensorflow.keras.layers import LeakyReLU\n",
        "from tensorflow.keras.layers import Activation\n",
        "from tensorflow.keras.layers import Flatten\n",
        "from tensorflow.keras.layers import Dense\n",
        "from tensorflow.keras.layers import Reshape\n",
        "from tensorflow.keras.layers import Input\n",
        "from tensorflow.keras.models import Model\n",
        "from tensorflow.keras import backend as K\n",
        "from tensorflow.keras.optimizers import Adam\n",
        "from keras.models import load_model"
      ],
      "execution_count": null,
      "outputs": []
    },
    {
      "cell_type": "markdown",
      "metadata": {
        "id": "_uWBn6Bja6SP",
        "colab_type": "text"
      },
      "source": [
        "# **filtering the warnings**"
      ]
    },
    {
      "cell_type": "code",
      "metadata": {
        "id": "t3DrWiLh-5Va",
        "colab_type": "code",
        "colab": {}
      },
      "source": [
        "import warnings\n",
        "warnings.filterwarnings(\"ignore\", category=DeprecationWarning)\n",
        "warnings.filterwarnings(\"ignore\", category=UserWarning)\n",
        "warnings.filterwarnings(\"ignore\", category=RuntimeWarning)\n",
        "warnings.filterwarnings(\"ignore\", category=FutureWarning)\n",
        "warnings.filterwarnings(\"ignore\", category=FutureWarning)\n"
      ],
      "execution_count": null,
      "outputs": []
    },
    {
      "cell_type": "markdown",
      "metadata": {
        "id": "d1m7o4tKbWdD",
        "colab_type": "text"
      },
      "source": [
        "# **accessing the drive**"
      ]
    },
    {
      "cell_type": "code",
      "metadata": {
        "id": "N_MEM4wzpEBM",
        "colab_type": "code",
        "colab": {
          "base_uri": "https://localhost:8080/",
          "height": 34
        },
        "outputId": "0de7b095-1c65-4267-f4b1-baa0215de53a"
      },
      "source": [
        "from google.colab import drive\n",
        "drive.mount('/gdrive')"
      ],
      "execution_count": null,
      "outputs": [
        {
          "output_type": "stream",
          "text": [
            "Drive already mounted at /gdrive; to attempt to forcibly remount, call drive.mount(\"/gdrive\", force_remount=True).\n"
          ],
          "name": "stdout"
        }
      ]
    },
    {
      "cell_type": "markdown",
      "metadata": {
        "id": "lKGL2mIrboc5",
        "colab_type": "text"
      },
      "source": [
        "# **giving the dataset path**"
      ]
    },
    {
      "cell_type": "code",
      "metadata": {
        "id": "pmjED7DdpaXF",
        "colab_type": "code",
        "colab": {}
      },
      "source": [
        "data_path = '/gdrive/My Drive/dataset'"
      ],
      "execution_count": null,
      "outputs": []
    },
    {
      "cell_type": "markdown",
      "metadata": {
        "id": "KLtTxEjyb4Ve",
        "colab_type": "text"
      },
      "source": [
        "# **creating the labels for the data**"
      ]
    },
    {
      "cell_type": "code",
      "metadata": {
        "id": "1nruTJHvrPrC",
        "colab_type": "code",
        "colab": {
          "base_uri": "https://localhost:8080/",
          "height": 101
        },
        "outputId": "7579ef91-776c-4bb1-a528-c4b235819007"
      },
      "source": [
        "categories = os.listdir(data_path)\n",
        "\n",
        "labels = [i for i in range(len(categories))]\n",
        "\n",
        "label_dict = dict(zip(categories,labels))\n",
        "\n",
        "print(label_dict)\n",
        "print()\n",
        "print(categories)\n",
        "print()\n",
        "print(labels)\n"
      ],
      "execution_count": null,
      "outputs": [
        {
          "output_type": "stream",
          "text": [
            "{'with mask': 0, 'without mask': 1}\n",
            "\n",
            "['with mask', 'without mask']\n",
            "\n",
            "[0, 1]\n"
          ],
          "name": "stdout"
        }
      ]
    },
    {
      "cell_type": "markdown",
      "metadata": {
        "id": "91J8xGlQcDwh",
        "colab_type": "text"
      },
      "source": [
        "# **resizing the images**"
      ]
    },
    {
      "cell_type": "code",
      "metadata": {
        "id": "t1K0FhNGsXzQ",
        "colab_type": "code",
        "colab": {}
      },
      "source": [
        "img_size = 100\n",
        "data = []\n",
        "target = []\n",
        "\n",
        "for category in categories:\n",
        "  folder_path = os.path.join(data_path,category)\n",
        "  img_names = os.listdir(folder_path)\n",
        "\n",
        "  for img_name in img_names:\n",
        "    img_path = os.path.join(folder_path,img_name)\n",
        "    img=cv2.imread(img_path)\n",
        "    #reading the images\n",
        "\n",
        "    try:\n",
        "      gray = cv2.cvtColor(img,cv2.COLOR_BGR2GRAY)\n",
        "      #Converting the image into gray scale\n",
        "      resized = cv2.resize(gray,(img_size,img_size))\n",
        "      #resizing the gray scale into 100x100, since we need a fixed common size for all the images in the dataset\n",
        "      data.append(resized)\n",
        "      #appending the resized image\n",
        "      target.append(label_dict[category])\n",
        "      #appending the label(categorized) into the list (dataset)\n",
        "\n",
        "    except Exception as e:\n",
        "      print('Exception:',e)\n",
        "      #if any exception rasied, the exception will be printed here. And pass to the next image"
      ],
      "execution_count": null,
      "outputs": []
    },
    {
      "cell_type": "code",
      "metadata": {
        "id": "z3cf2g5OyXj0",
        "colab_type": "code",
        "colab": {}
      },
      "source": [
        "data = np.array(data)/255.0\n",
        "#normalizing the data\n",
        "data = np.reshape(data,(data.shape[0],img_size,img_size,1))\n",
        "#reshaping the data\n",
        "target = np.array(target)\n",
        "\n"
      ],
      "execution_count": null,
      "outputs": []
    },
    {
      "cell_type": "markdown",
      "metadata": {
        "id": "8U4HIhcxcMeN",
        "colab_type": "text"
      },
      "source": [
        "# convert the target into numerical"
      ]
    },
    {
      "cell_type": "code",
      "metadata": {
        "id": "wUOosEr2z3rV",
        "colab_type": "code",
        "colab": {}
      },
      "source": [
        "new_target=np_utils.to_categorical(target)"
      ],
      "execution_count": null,
      "outputs": []
    },
    {
      "cell_type": "code",
      "metadata": {
        "id": "guFOftij0J3c",
        "colab_type": "code",
        "colab": {}
      },
      "source": [
        "np.save('data',data)\n",
        "#saving the data in npy format\n",
        "np.save('target',new_target)\n",
        "#saving the target in npy format"
      ],
      "execution_count": null,
      "outputs": []
    },
    {
      "cell_type": "code",
      "metadata": {
        "id": "kc4nfccN0Pbc",
        "colab_type": "code",
        "colab": {}
      },
      "source": [
        "data=np.load('data.npy')\n",
        "#loading the data\n",
        "target=np.load('target.npy')\n",
        "#loading the target"
      ],
      "execution_count": null,
      "outputs": []
    },
    {
      "cell_type": "markdown",
      "metadata": {
        "id": "KRREzClncmLq",
        "colab_type": "text"
      },
      "source": [
        "# **model building**"
      ]
    },
    {
      "cell_type": "code",
      "metadata": {
        "id": "EcvihtbP6Lzm",
        "colab_type": "code",
        "colab": {}
      },
      "source": [
        "model=Sequential()\n",
        "model.add(Conv2D(32,(3,3),activation='relu',padding='same',kernel_initializer='glorot_normal',input_shape=data.shape[1:]))\n",
        "#convolution_layer1\n",
        "model.add(Conv2D(64,(3,3),activation='relu',padding='same',kernel_initializer='glorot_normal'))\n",
        "#convolution_layer2\n",
        "model.add(MaxPooling2D(pool_size=(2,2)))\n",
        "#maxpooling_layer1\n",
        "model.add(BatchNormalization())\n",
        "#batch normalization_layer1\n",
        "model.add(Conv2D(128,(3,3),activation='relu',padding='same',kernel_initializer='glorot_normal'))\n",
        "#convolution_layer3\n",
        "model.add(Conv2D(256,(3,3),activation='relu',padding='same',kernel_initializer='glorot_normal'))\n",
        "#convolution_layer4\n",
        "model.add(MaxPooling2D(pool_size=(2,2)))\n",
        "#maxpooling_layer2\n",
        "model.add(BatchNormalization())\n",
        "#batch nomalization_layer2\n",
        "model.add(Flatten())\n",
        "#Flatten layer to stack the output convolutions from previous convolution layer\n",
        "model.add(Dropout(0.5))\n",
        "#dropout layer\n",
        "model.add(Dense(50,activation='relu'))\n",
        "#Dense layer\n",
        "model.add(Dense(25,activation='relu'))\n",
        "#dense layer\n",
        "model.add(Dense(2,activation='softmax'))\n",
        "#The Final layer with two outputs for two categories\n",
        "\n",
        "\n",
        "\n"
      ],
      "execution_count": null,
      "outputs": []
    },
    {
      "cell_type": "markdown",
      "metadata": {
        "id": "yjxhcoCGcs05",
        "colab_type": "text"
      },
      "source": [
        "# **compiling the model**"
      ]
    },
    {
      "cell_type": "code",
      "metadata": {
        "id": "e0yNcz7xIuW5",
        "colab_type": "code",
        "colab": {}
      },
      "source": [
        "model.compile(loss='binary_crossentropy',optimizer='adam',metrics=['accuracy'])"
      ],
      "execution_count": null,
      "outputs": []
    },
    {
      "cell_type": "markdown",
      "metadata": {
        "id": "rxzkHzbccz9h",
        "colab_type": "text"
      },
      "source": [
        "# **printing the model summary**"
      ]
    },
    {
      "cell_type": "code",
      "metadata": {
        "id": "cf5H4hKjMS0S",
        "colab_type": "code",
        "colab": {
          "base_uri": "https://localhost:8080/",
          "height": 588
        },
        "outputId": "555571d0-8e08-49a4-b248-bf283f72e5f0"
      },
      "source": [
        "model.summary()"
      ],
      "execution_count": null,
      "outputs": [
        {
          "output_type": "stream",
          "text": [
            "Model: \"sequential\"\n",
            "_________________________________________________________________\n",
            "Layer (type)                 Output Shape              Param #   \n",
            "=================================================================\n",
            "conv2d (Conv2D)              (None, 100, 100, 32)      320       \n",
            "_________________________________________________________________\n",
            "conv2d_1 (Conv2D)            (None, 100, 100, 64)      18496     \n",
            "_________________________________________________________________\n",
            "max_pooling2d (MaxPooling2D) (None, 50, 50, 64)        0         \n",
            "_________________________________________________________________\n",
            "batch_normalization (BatchNo (None, 50, 50, 64)        256       \n",
            "_________________________________________________________________\n",
            "conv2d_2 (Conv2D)            (None, 50, 50, 128)       73856     \n",
            "_________________________________________________________________\n",
            "conv2d_3 (Conv2D)            (None, 50, 50, 256)       295168    \n",
            "_________________________________________________________________\n",
            "max_pooling2d_1 (MaxPooling2 (None, 25, 25, 256)       0         \n",
            "_________________________________________________________________\n",
            "batch_normalization_1 (Batch (None, 25, 25, 256)       1024      \n",
            "_________________________________________________________________\n",
            "flatten (Flatten)            (None, 160000)            0         \n",
            "_________________________________________________________________\n",
            "dropout (Dropout)            (None, 160000)            0         \n",
            "_________________________________________________________________\n",
            "dense (Dense)                (None, 50)                8000050   \n",
            "_________________________________________________________________\n",
            "dense_1 (Dense)              (None, 25)                1275      \n",
            "_________________________________________________________________\n",
            "dense_2 (Dense)              (None, 2)                 52        \n",
            "=================================================================\n",
            "Total params: 8,390,497\n",
            "Trainable params: 8,389,857\n",
            "Non-trainable params: 640\n",
            "_________________________________________________________________\n"
          ],
          "name": "stdout"
        }
      ]
    },
    {
      "cell_type": "markdown",
      "metadata": {
        "id": "RnOiP19sdBv-",
        "colab_type": "text"
      },
      "source": [
        "# **installing the visualization libraries**"
      ]
    },
    {
      "cell_type": "code",
      "metadata": {
        "id": "ZI41VLrVMgkt",
        "colab_type": "code",
        "colab": {
          "base_uri": "https://localhost:8080/",
          "height": 50
        },
        "outputId": "acb5254f-e282-4226-f108-c40f5bf7a621"
      },
      "source": [
        "pip install pydot"
      ],
      "execution_count": null,
      "outputs": [
        {
          "output_type": "stream",
          "text": [
            "Requirement already satisfied: pydot in /usr/local/lib/python3.6/dist-packages (1.3.0)\n",
            "Requirement already satisfied: pyparsing>=2.1.4 in /usr/local/lib/python3.6/dist-packages (from pydot) (2.4.7)\n"
          ],
          "name": "stdout"
        }
      ]
    },
    {
      "cell_type": "code",
      "metadata": {
        "id": "Yi5KTS31MhCB",
        "colab_type": "code",
        "colab": {
          "base_uri": "https://localhost:8080/",
          "height": 34
        },
        "outputId": "a943e07e-11cc-471b-bf38-cd93fdb74f98"
      },
      "source": [
        "pip install graphviz"
      ],
      "execution_count": null,
      "outputs": [
        {
          "output_type": "stream",
          "text": [
            "Requirement already satisfied: graphviz in /usr/local/lib/python3.6/dist-packages (0.10.1)\n"
          ],
          "name": "stdout"
        }
      ]
    },
    {
      "cell_type": "markdown",
      "metadata": {
        "id": "Misyd8QndNdP",
        "colab_type": "text"
      },
      "source": [
        "# **importing the visualization libraries**"
      ]
    },
    {
      "cell_type": "code",
      "metadata": {
        "id": "eAT2QXALMhgB",
        "colab_type": "code",
        "colab": {}
      },
      "source": [
        "import pydot\n",
        "import graphviz"
      ],
      "execution_count": null,
      "outputs": []
    },
    {
      "cell_type": "markdown",
      "metadata": {
        "id": "j7TB56MrddyK",
        "colab_type": "text"
      },
      "source": [
        "# **visualizing the model**"
      ]
    },
    {
      "cell_type": "code",
      "metadata": {
        "id": "lO8XsXJHMu2k",
        "colab_type": "code",
        "colab": {
          "base_uri": "https://localhost:8080/",
          "height": 1000
        },
        "outputId": "33e08efa-c46e-4b73-eb30-a7a59cc97480"
      },
      "source": [
        "tf.keras.utils.plot_model(model,to_file='model.jpg',show_layer_names=True,\n",
        "                          rankdir='TB',expand_nested=True,dpi=96)"
      ],
      "execution_count": null,
      "outputs": [
        {
          "output_type": "execute_result",
          "data": {
            "image/jpeg": "[encoded data removed]",
            "text/plain": [
              "<IPython.core.display.Image object>"
            ]
          },
          "metadata": {
            "tags": []
          },
          "execution_count": 19
        }
      ]
    },
    {
      "cell_type": "markdown",
      "metadata": {
        "id": "DeLlZL6AdmK8",
        "colab_type": "text"
      },
      "source": [
        "# **splitting the data**"
      ]
    },
    {
      "cell_type": "code",
      "metadata": {
        "id": "NNafnDbIJWCN",
        "colab_type": "code",
        "colab": {}
      },
      "source": [
        "from sklearn.model_selection import train_test_split\n",
        "\n",
        "train_data,test_data,train_target,test_target=train_test_split(data,target,test_size=0.1)"
      ],
      "execution_count": null,
      "outputs": []
    },
    {
      "cell_type": "markdown",
      "metadata": {
        "id": "N9oKMW5zdwiE",
        "colab_type": "text"
      },
      "source": [
        "# **creating the check point to the model**"
      ]
    },
    {
      "cell_type": "code",
      "metadata": {
        "id": "EvVMKnMMJfDC",
        "colab_type": "code",
        "colab": {}
      },
      "source": [
        "checkpoint = ModelCheckpoint('model-{epoch:03d}.model',monitor='val_loss',verbose=0,save_best_only=True,mode='auto')"
      ],
      "execution_count": null,
      "outputs": []
    },
    {
      "cell_type": "markdown",
      "metadata": {
        "id": "hebMjFyed_AV",
        "colab_type": "text"
      },
      "source": [
        "# **model training**"
      ]
    },
    {
      "cell_type": "code",
      "metadata": {
        "id": "VHGNvXcpJ3Gp",
        "colab_type": "code",
        "colab": {
          "base_uri": "https://localhost:8080/",
          "height": 1000
        },
        "outputId": "2ca9f67f-0320-48a3-e68b-9db147113eed"
      },
      "source": [
        "history=model.fit(train_data,train_target,epochs=30,callbacks=[checkpoint],validation_split=0.2)"
      ],
      "execution_count": null,
      "outputs": [
        {
          "output_type": "stream",
          "text": [
            "Epoch 1/30\n",
            " 2/31 [>.............................] - ETA: 1s - loss: 0.8356 - accuracy: 0.7188WARNING:tensorflow:Callbacks method `on_train_batch_end` is slow compared to the batch time (batch time: 0.0401s vs `on_train_batch_end` time: 0.0739s). Check your callbacks.\n",
            "31/31 [==============================] - ETA: 0s - loss: 1.8844 - accuracy: 0.7960WARNING:tensorflow:From /usr/local/lib/python3.6/dist-packages/tensorflow/python/training/tracking/tracking.py:111: Model.state_updates (from tensorflow.python.keras.engine.training) is deprecated and will be removed in a future version.\n",
            "Instructions for updating:\n",
            "This property should not be used in TensorFlow 2.0, as updates are applied automatically.\n",
            "WARNING:tensorflow:From /usr/local/lib/python3.6/dist-packages/tensorflow/python/training/tracking/tracking.py:111: Layer.updates (from tensorflow.python.keras.engine.base_layer) is deprecated and will be removed in a future version.\n",
            "Instructions for updating:\n",
            "This property should not be used in TensorFlow 2.0, as updates are applied automatically.\n",
            "INFO:tensorflow:Assets written to: model-001.model/assets\n",
            "31/31 [==============================] - 7s 231ms/step - loss: 1.8844 - accuracy: 0.7960 - val_loss: 2.6543 - val_accuracy: 0.6250\n",
            "Epoch 2/30\n",
            "31/31 [==============================] - ETA: 0s - loss: 1.7560 - accuracy: 0.8535INFO:tensorflow:Assets written to: model-002.model/assets\n",
            "31/31 [==============================] - 6s 181ms/step - loss: 1.7560 - accuracy: 0.8535 - val_loss: 1.4612 - val_accuracy: 0.7379\n",
            "Epoch 3/30\n",
            "31/31 [==============================] - 4s 117ms/step - loss: 1.1287 - accuracy: 0.8970 - val_loss: 4.3056 - val_accuracy: 0.6331\n",
            "Epoch 4/30\n",
            "31/31 [==============================] - 4s 116ms/step - loss: 1.5898 - accuracy: 0.8838 - val_loss: 7.3930 - val_accuracy: 0.5161\n",
            "Epoch 5/30\n",
            "31/31 [==============================] - 4s 116ms/step - loss: 1.4287 - accuracy: 0.8889 - val_loss: 7.4830 - val_accuracy: 0.5121\n",
            "Epoch 6/30\n",
            "31/31 [==============================] - 4s 116ms/step - loss: 0.9999 - accuracy: 0.9263 - val_loss: 7.4830 - val_accuracy: 0.5121\n",
            "Epoch 7/30\n",
            "31/31 [==============================] - 4s 117ms/step - loss: 0.6782 - accuracy: 0.9455 - val_loss: 7.4830 - val_accuracy: 0.5121\n",
            "Epoch 8/30\n",
            "31/31 [==============================] - 4s 116ms/step - loss: 0.6314 - accuracy: 0.9505 - val_loss: 7.4830 - val_accuracy: 0.5121\n",
            "Epoch 9/30\n",
            "31/31 [==============================] - 4s 116ms/step - loss: 0.6712 - accuracy: 0.9475 - val_loss: 7.1973 - val_accuracy: 0.5202\n",
            "Epoch 10/30\n",
            "31/31 [==============================] - 4s 116ms/step - loss: 0.6183 - accuracy: 0.9535 - val_loss: 1.8719 - val_accuracy: 0.8468\n",
            "Epoch 11/30\n",
            "31/31 [==============================] - 4s 116ms/step - loss: 0.8167 - accuracy: 0.9394 - val_loss: 5.4455 - val_accuracy: 0.6290\n",
            "Epoch 12/30\n",
            "31/31 [==============================] - 4s 116ms/step - loss: 0.7078 - accuracy: 0.9525 - val_loss: 3.5024 - val_accuracy: 0.7298\n",
            "Epoch 13/30\n",
            "31/31 [==============================] - 4s 117ms/step - loss: 0.9221 - accuracy: 0.9364 - val_loss: 5.7172 - val_accuracy: 0.6008\n",
            "Epoch 14/30\n",
            "31/31 [==============================] - 4s 116ms/step - loss: 1.0698 - accuracy: 0.9212 - val_loss: 2.5717 - val_accuracy: 0.8266\n",
            "Epoch 15/30\n",
            "31/31 [==============================] - ETA: 0s - loss: 0.8390 - accuracy: 0.9374INFO:tensorflow:Assets written to: model-015.model/assets\n",
            "31/31 [==============================] - 6s 188ms/step - loss: 0.8390 - accuracy: 0.9374 - val_loss: 0.7577 - val_accuracy: 0.9355\n",
            "Epoch 16/30\n",
            "31/31 [==============================] - 4s 116ms/step - loss: 0.6896 - accuracy: 0.9505 - val_loss: 0.9532 - val_accuracy: 0.9274\n",
            "Epoch 17/30\n",
            "31/31 [==============================] - 4s 116ms/step - loss: 0.7594 - accuracy: 0.9444 - val_loss: 1.7330 - val_accuracy: 0.8790\n",
            "Epoch 18/30\n",
            "31/31 [==============================] - 4s 116ms/step - loss: 0.7534 - accuracy: 0.9465 - val_loss: 0.7971 - val_accuracy: 0.9395\n",
            "Epoch 19/30\n",
            "31/31 [==============================] - 4s 116ms/step - loss: 0.5654 - accuracy: 0.9576 - val_loss: 2.9837 - val_accuracy: 0.7823\n",
            "Epoch 20/30\n",
            "31/31 [==============================] - 4s 116ms/step - loss: 0.6771 - accuracy: 0.9535 - val_loss: 7.2779 - val_accuracy: 0.5242\n",
            "Epoch 21/30\n",
            "31/31 [==============================] - 4s 117ms/step - loss: 0.8853 - accuracy: 0.9404 - val_loss: 6.3202 - val_accuracy: 0.5847\n",
            "Epoch 22/30\n",
            "31/31 [==============================] - 4s 116ms/step - loss: 1.0869 - accuracy: 0.9222 - val_loss: 3.2732 - val_accuracy: 0.7863\n",
            "Epoch 23/30\n",
            "31/31 [==============================] - 4s 116ms/step - loss: 0.6280 - accuracy: 0.9545 - val_loss: 3.9707 - val_accuracy: 0.7218\n",
            "Epoch 24/30\n",
            "31/31 [==============================] - 4s 118ms/step - loss: 0.4864 - accuracy: 0.9636 - val_loss: 5.7067 - val_accuracy: 0.6089\n",
            "Epoch 25/30\n",
            "31/31 [==============================] - 4s 118ms/step - loss: 0.6042 - accuracy: 0.9545 - val_loss: 3.8159 - val_accuracy: 0.7339\n",
            "Epoch 26/30\n",
            "31/31 [==============================] - 4s 117ms/step - loss: 0.5188 - accuracy: 0.9596 - val_loss: 7.3917 - val_accuracy: 0.5121\n",
            "Epoch 27/30\n",
            "31/31 [==============================] - 4s 117ms/step - loss: 0.6395 - accuracy: 0.9515 - val_loss: 3.7623 - val_accuracy: 0.7540\n",
            "Epoch 28/30\n",
            "31/31 [==============================] - 4s 117ms/step - loss: 0.7146 - accuracy: 0.9515 - val_loss: 3.0956 - val_accuracy: 0.7903\n",
            "Epoch 29/30\n",
            "31/31 [==============================] - ETA: 0s - loss: 0.5522 - accuracy: 0.9616INFO:tensorflow:Assets written to: model-029.model/assets\n",
            "31/31 [==============================] - 6s 182ms/step - loss: 0.5522 - accuracy: 0.9616 - val_loss: 0.7495 - val_accuracy: 0.9476\n",
            "Epoch 30/30\n",
            "31/31 [==============================] - ETA: 0s - loss: 0.4542 - accuracy: 0.9687INFO:tensorflow:Assets written to: model-030.model/assets\n",
            "31/31 [==============================] - 6s 184ms/step - loss: 0.4542 - accuracy: 0.9687 - val_loss: 0.5566 - val_accuracy: 0.9637\n"
          ],
          "name": "stdout"
        }
      ]
    },
    {
      "cell_type": "code",
      "metadata": {
        "id": "690rKj1CJ8ga",
        "colab_type": "code",
        "colab": {
          "base_uri": "https://localhost:8080/",
          "height": 279
        },
        "outputId": "1779e7b4-908f-4b56-8b54-f6e9653b41d4"
      },
      "source": [
        "plt.plot(history.history['loss'],'r',label='training loss')\n",
        "plt.plot(history.history['val_loss'],label='validation loss')\n",
        "plt.xlabel('# epochs')\n",
        "plt.ylabel('loss')\n",
        "plt.legend()\n",
        "plt.show()"
      ],
      "execution_count": null,
      "outputs": [
        {
          "output_type": "display_data",
          "data": {
            "image/png": "[encoded data removed]",
            "text/plain": [
              "<Figure size 432x288 with 1 Axes>"
            ]
          },
          "metadata": {
            "tags": [],
            "needs_background": "light"
          }
        }
      ]
    },
    {
      "cell_type": "code",
      "metadata": {
        "id": "gxkhTAFdK8jH",
        "colab_type": "code",
        "colab": {
          "base_uri": "https://localhost:8080/",
          "height": 279
        },
        "outputId": "d2c10237-d2f9-4643-fb66-ad8ef60ae8cb"
      },
      "source": [
        "plt.plot(history.history['accuracy'],'r',label='training accuracy')\n",
        "plt.plot(history.history['val_accuracy'],label='validation accuracy')\n",
        "plt.xlabel('# epochs')\n",
        "plt.ylabel('loss')\n",
        "plt.legend()\n",
        "plt.show()"
      ],
      "execution_count": null,
      "outputs": [
        {
          "output_type": "display_data",
          "data": {
            "image/png": "[encoded data removed]",
            "text/plain": [
              "<Figure size 432x288 with 1 Axes>"
            ]
          },
          "metadata": {
            "tags": [],
            "needs_background": "light"
          }
        }
      ]
    },
    {
      "cell_type": "code",
      "metadata": {
        "id": "Gxp3qtCILGTD",
        "colab_type": "code",
        "colab": {
          "base_uri": "https://localhost:8080/",
          "height": 50
        },
        "outputId": "6ebe94a9-ef71-4389-db08-e2437ef7e429"
      },
      "source": [
        "print(model.evaluate(test_data,test_target))"
      ],
      "execution_count": null,
      "outputs": [
        {
          "output_type": "stream",
          "text": [
            "5/5 [==============================] - 0s 76ms/step - loss: 0.8502 - accuracy: 0.9420\n",
            "[0.8501895666122437, 0.9420289993286133]\n"
          ],
          "name": "stdout"
        }
      ]
    },
    {
      "cell_type": "markdown",
      "metadata": {
        "id": "-Z0qGm95eQMo",
        "colab_type": "text"
      },
      "source": [
        "# **saving the model**"
      ]
    },
    {
      "cell_type": "code",
      "metadata": {
        "id": "FycIqiDlTDby",
        "colab_type": "code",
        "colab": {}
      },
      "source": [
        "model.save('trainedmodel.h5')"
      ],
      "execution_count": null,
      "outputs": []
    },
    {
      "cell_type": "code",
      "metadata": {
        "id": "lK4WTbv8NPNL",
        "colab_type": "code",
        "colab": {}
      },
      "source": [
        "model = load_model('trainedmodel.h5')\n",
        "\n",
        "face_clsfr=cv2.CascadeClassifier('/gdrive/My Drive/haarcascade_frontalface_default.xml')\n",
        "\n",
        "labels_dict={0:'with_mask',1:'without_mask'}\n",
        "color_dict={0:(0,255,0),1:(0,0,255)}"
      ],
      "execution_count": null,
      "outputs": []
    },
    {
      "cell_type": "code",
      "metadata": {
        "id": "BO8Ja5KFYu2l",
        "colab_type": "code",
        "colab": {}
      },
      "source": [
        "from google.colab.patches import cv2_imshow"
      ],
      "execution_count": null,
      "outputs": []
    },
    {
      "cell_type": "code",
      "metadata": {
        "id": "YKZv1o5cZafM",
        "colab_type": "code",
        "colab": {}
      },
      "source": [
        "source=cv2.VideoCapture('/gdrive/My Drive/sample_videos/3.mp4')"
      ],
      "execution_count": null,
      "outputs": []
    },
    {
      "cell_type": "code",
      "metadata": {
        "id": "wWSCh8t3SzL_",
        "colab_type": "code",
        "colab": {}
      },
      "source": [
        "while(True):\n",
        "\n",
        "    ret,img=source.read()\n",
        "    gray=cv2.cvtColor(img,cv2.COLOR_BGR2GRAY)\n",
        "    faces=face_clsfr.detectMultiScale(gray,1.3,5)  \n",
        "\n",
        "    for x,y,w,h in faces:\n",
        "    \n",
        "        face_img=gray[y:y+w,x:x+w]\n",
        "        resized=cv2.resize(face_img,(100,100))\n",
        "        normalized=resized/255.0\n",
        "        reshaped=np.reshape(normalized,(1,100,100,1))\n",
        "        result=model.predict(reshaped)\n",
        "\n",
        "        label=np.argmax(result,axis=1)[0]\n",
        "      \n",
        "        cv2.rectangle(img,(x,y),(x+w,y+h),color_dict[label],2)\n",
        "        cv2.rectangle(img,(x,y-40),(x+w,y),color_dict[label],-1)\n",
        "        cv2.putText(img, labels_dict[label], (x, y-10),cv2.FONT_HERSHEY_SIMPLEX,0.8,(255,255,255),2)\n",
        "        \n",
        "        \n",
        "    cv2_imshow(img)\n",
        "    key=cv2.waitKey(1)\n",
        "    \n",
        "    if(key==27):\n",
        "        break\n",
        "        \n",
        "cv2.destroyAllWindows()\n",
        "source.release()"
      ],
      "execution_count": null,
      "outputs": []
    },
    {
      "cell_type": "code",
      "metadata": {
        "id": "Rr0HRYcgVM21",
        "colab_type": "code",
        "colab": {}
      },
      "source": [
        ""
      ],
      "execution_count": null,
      "outputs": []
    }
  ]
}